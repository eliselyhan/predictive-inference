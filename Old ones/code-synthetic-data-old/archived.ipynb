{
 "cells": [
  {
   "cell_type": "code",
   "execution_count": null,
   "metadata": {},
   "outputs": [],
   "source": [
    "def cdfhat_forall_subarr_2d(array, B_arr):\n",
    "    n, m = array.shape  \n",
    "\n",
    "    # Prepare Btk_all from B_arr for subarray sums\n",
    "    Btk_all = np.array(subarr_sums(B_arr))\n",
    "    Btk_all_end = np.cumsum(np.arange(n, 0, -1))\n",
    "    Btk_all_start = Btk_all_end - np.arange(n, 0, -1)\n",
    "\n",
    "    # Compute prefix sums for the reversed array along each column\n",
    "    reversed_array = array[::-1, :]\n",
    "    prefix_sums = np.zeros((n + 1, m), dtype=int)\n",
    "    prefix_sums[1:, :] = np.cumsum(reversed_array, axis=0)\n",
    "\n",
    "    # Prepare an array to hold all subarray averages for each column\n",
    "    all_averages = np.empty((Btk_all_end[-1], m), dtype=object)  # Use object type to hold variable-length arrays\n",
    "\n",
    "    # Vectorized computation for each start index across all columns\n",
    "    for start in range(n):\n",
    "        # Get Btk\n",
    "        lengths = Btk_all[Btk_all_start[start]:Btk_all_end[start]]\n",
    "\n",
    "        # Sums from 'start' to all 'end' indices greater than 'start'\n",
    "        sub_sums = prefix_sums[start + 1:, :] - prefix_sums[start, np.newaxis, :]\n",
    "\n",
    "        # Calculate averages by dividing sums by their respective lengths, broadcasting lengths appropriately\n",
    "        sub_averages = np.divide(sub_sums, lengths[:, np.newaxis])\n",
    "        #print('sub_averages:\\n', sub_averages)\n",
    "\n",
    "        all_averages[Btk_all_start[start]: Btk_all_end[start], :] = sub_averages\n",
    "\n",
    "    return all_averages\n",
    "\n",
    "# Example usage\n",
    "array = np.array([\n",
    "    [1, 2],\n",
    "    [0, 1],\n",
    "    [1, 0],\n",
    "])\n",
    "\n",
    "B_arr = np.array([1, 2, 3])  # 1D array used across all columns\n",
    "n = len(B_arr)\n",
    "\n",
    "Btk_all = np.array(subarr_sums(B_arr))\n",
    "Btk_all_end = np.cumsum(np.arange(n, 0, -1))\n",
    "Btk_all_start = Btk_all_end - np.arange(n, 0, -1)\n",
    "\n",
    "averages = cdfhat_forall_subarr_2d(array, B_arr)\n",
    "print(averages)\n",
    "for t in range(n):\n",
    "    print('t =', t) \n",
    "    print(averages[Btk_all_start[n-t-1]:Btk_all_end[n-t-1]])"
   ]
  },
  {
   "cell_type": "code",
   "execution_count": 1,
   "metadata": {},
   "outputs": [
    {
     "ename": "NameError",
     "evalue": "name 'np' is not defined",
     "output_type": "error",
     "traceback": [
      "\u001b[0;31m---------------------------------------------------------------------------\u001b[0m",
      "\u001b[0;31mNameError\u001b[0m                                 Traceback (most recent call last)",
      "Cell \u001b[0;32mIn[1], line 23\u001b[0m\n\u001b[1;32m     21\u001b[0m     \u001b[38;5;28;01mreturn\u001b[39;00m all_sums\n\u001b[1;32m     22\u001b[0m \u001b[38;5;66;03m#given q, compute the number of elements in an array smaller than or equal to q\u001b[39;00m\n\u001b[0;32m---> 23\u001b[0m U \u001b[38;5;241m=\u001b[39m \u001b[43mnp\u001b[49m\u001b[38;5;241m.\u001b[39mrandom\u001b[38;5;241m.\u001b[39mnormal(\u001b[38;5;241m0\u001b[39m, \u001b[38;5;241m1\u001b[39m, \u001b[38;5;241m10\u001b[39m)\n\u001b[1;32m     24\u001b[0m qtk \u001b[38;5;241m=\u001b[39m np\u001b[38;5;241m.\u001b[39marray([\u001b[38;5;241m0.5\u001b[39m, \u001b[38;5;241m0.2\u001b[39m, \u001b[38;5;241m0.8\u001b[39m])\n\u001b[1;32m     25\u001b[0m leq \u001b[38;5;241m=\u001b[39m np\u001b[38;5;241m.\u001b[39mgreater_equal\u001b[38;5;241m.\u001b[39mouter(U, qtk)\n",
      "\u001b[0;31mNameError\u001b[0m: name 'np' is not defined"
     ]
    }
   ],
   "source": [
    "def subarr_sums(array):\n",
    "    n = len(array)\n",
    "    \n",
    "    # Reverse the array for backward processing\n",
    "    reversed_array = array[::-1]\n",
    "    \n",
    "    # Compute prefix sums for the reversed array\n",
    "    prefix_sums = np.zeros(n + 1, dtype=int)\n",
    "    prefix_sums[1:] = np.cumsum(reversed_array)\n",
    "    \n",
    "    # List to hold all subarray averages\n",
    "    all_sums = []\n",
    "    \n",
    "    for start in range(n):\n",
    "        \n",
    "        # Sums from 'start' to all 'end' indices greater than 'start'\n",
    "        sub_sums = prefix_sums[start + 1:] - prefix_sums[start]\n",
    "        \n",
    "        all_sums.extend(sub_sums)\n",
    "\n",
    "    return all_sums\n",
    "#given q, compute the number of elements in an array smaller than or equal to q\n",
    "U = np.random.normal(0, 1, 10)\n",
    "qtk = np.array([0.5, 0.2, 0.8])\n",
    "leq = np.greater_equal.outer(U, qtk)\n",
    "print(leq.shape)"
   ]
  },
  {
   "cell_type": "code",
   "execution_count": null,
   "metadata": {},
   "outputs": [],
   "source": [
    "def prepare_qtk_all(U, B_arr, alpha):\n",
    "    n = len(B_arr)\n",
    "    period_ends = np.cumsum(B_arr)\n",
    "    period_starts = period_ends - B_arr\n",
    "\n",
    "    qtk_all = np.zeros((n,n))\n",
    "\n",
    "    for t in range(n):\n",
    "        qtk_all[t, :t+1] = np.array( [np.quantile( \\\n",
    "            U[period_starts[i]:period_ends[t]], \\\n",
    "                1-alpha, method='inverted_cdf') for i in range(t+1)] )[::-1]\n",
    "\n",
    "    return qtk_all"
   ]
  },
  {
   "cell_type": "code",
   "execution_count": null,
   "metadata": {},
   "outputs": [],
   "source": [
    "\"\"\" grid=50\n",
    "    k_sizes =  [grid*i for i in range(1, int(n/grid)+1)]\n",
    "    if n==1:\n",
    "        return np.array([1])\n",
    "    elif n<grid:\n",
    "        return np.array([1, n])\n",
    "    elif k_sizes[-1] < n:\n",
    "        k_sizes.append(n)\n",
    "    k_sizes.insert(0, 1) \"\"\" "
   ]
  }
 ],
 "metadata": {
  "kernelspec": {
   "display_name": "Python 3",
   "language": "python",
   "name": "python3"
  },
  "language_info": {
   "codemirror_mode": {
    "name": "ipython",
    "version": 3
   },
   "file_extension": ".py",
   "mimetype": "text/x-python",
   "name": "python",
   "nbconvert_exporter": "python",
   "pygments_lexer": "ipython3",
   "version": "3.9.6"
  }
 },
 "nbformat": 4,
 "nbformat_minor": 2
}
