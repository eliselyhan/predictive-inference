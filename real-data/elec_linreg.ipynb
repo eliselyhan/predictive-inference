{
 "cells": [
  {
   "cell_type": "code",
   "execution_count": 141,
   "metadata": {},
   "outputs": [],
   "source": [
    "import numpy as np\n",
    "import pandas as pd\n",
    "import matplotlib.pyplot as plt\n",
    "from scipy.stats import norm\n",
    "from tqdm import tqdm\n",
    "import sys\n",
    "import matplotlib as mpl\n",
    "\n",
    "#insert path\n",
    "sys.path.insert(0, '../methods/')\n",
    "\n",
    "sys.modules.pop('generate_syn_data', None)\n",
    "from generate_syn_data import *\n",
    "\n",
    "sys.modules.pop('ARWQE', None)\n",
    "from ARWQE import *\n",
    "\n",
    "sys.modules.pop('plots', None)\n",
    "from plots import *"
   ]
  },
  {
   "cell_type": "code",
   "execution_count": 165,
   "metadata": {},
   "outputs": [],
   "source": [
    "# ELEC2 data set\n",
    "# downloaded from https://www.kaggle.com/yashsharan/the-elec2-dataset\n",
    "data = pd.read_csv('electricity-normalized.csv')\n",
    "col_names = data.columns\n",
    "data = data.to_numpy()\n",
    "\n",
    "# remove the first stretch of time where 'transfer' does not vary\n",
    "data = data[17760:]\n",
    "\n",
    "# set up variables for the task (predicting 'transfer')\n",
    "covariate_col = ['nswprice', 'nswdemand', 'vicprice', 'vicdemand']\n",
    "response_col = 'transfer'\n",
    "# keep data points for 9:00am - 12:00pm\n",
    "keep_rows = np.where((data[:,2]>data[17,2])&(data[:,2]<data[24,2]))[0]\n",
    "\n",
    "X = data[keep_rows][:,np.where([t in covariate_col for t in col_names])[0]]\n",
    "Y = data[keep_rows][:,np.where(col_names==response_col)[0]].flatten()\n",
    "X = X.astype('float64')\n",
    "Y = Y.astype('float64')\n",
    "\n",
    "N = X.shape[0]; p = X.shape[1]; alpha = 0.1\n",
    "train_lag = 100 # start predicting after train_lag many observations"
   ]
  },
  {
   "cell_type": "code",
   "execution_count": 167,
   "metadata": {},
   "outputs": [
    {
     "name": "stdout",
     "output_type": "stream",
     "text": [
      "3444\n"
     ]
    }
   ],
   "source": [
    "alpha =0.1; delta = 0.1; gamma=1\n",
    "num_periods = X.shape[0]\n",
    "print(num_periods)\n",
    "np.random.seed(6)\n",
    "B_arr = np.ones(num_periods)"
   ]
  },
  {
   "cell_type": "code",
   "execution_count": 172,
   "metadata": {},
   "outputs": [
    {
     "name": "stderr",
     "output_type": "stream",
     "text": [
      "100%|██████████| 3344/3344 [00:02<00:00, 1292.76it/s]\n"
     ]
    }
   ],
   "source": [
    "num_trials = 1\n",
    "train_lag = 100\n",
    "N = len(Y)\n",
    "fixed_windows = [1, 4, 16, 64, 256, 1024, 4096]\n",
    "cdf_dict = create_empty_dict(fixed_windows, num_trials)\n",
    "interval_dict = create_empty_dict(fixed_windows, num_trials)\n",
    "\n",
    "seeds = np.arange(num_trials) + 2024\n",
    "\n",
    "for (trial, seed) in enumerate(seeds):\n",
    "    \n",
    "    np.random.seed(seed)\n",
    "\n",
    "    k_hat_all = []\n",
    "\n",
    "    for t in tqdm(range(train_lag, N)):\n",
    "\n",
    "        inds_odd = np.arange(1,int(np.ceil(t/2)*2-1),2)\n",
    "        inds_even = np.arange(2,int(np.floor(t/2)*2),2)\n",
    "        \n",
    "        X_tr = X[:t, :][inds_odd]; Y_tr = Y[:t][inds_odd]\n",
    "        X_val = X[:t, :][inds_even]; Y_val = Y[:t][inds_even]\n",
    "        X_test = X[t]; Y_test = Y[t]\n",
    "\n",
    "        #TODO: choose a fixed training window\n",
    "        #reg, S_t = fit_and_get_scores(X_tr_t, Y_tr_t, X_val_t, Y_val_t)\n",
    "\n",
    "        beta_hat, S_t = fit_LS_get_scores(X_tr, Y_tr, X_val, Y_val)\n",
    "\n",
    "        B_val_t = np.ones(len(Y_val)).astype(int)\n",
    "\n",
    "        khat, qt_khat, qtk_all = ARWQE(S_t, B_val_t, alpha, delta, gamma)\n",
    "        k_hat_all.append(khat)\n",
    "\n",
    "        #compute prediction set on the next training point\n",
    "        #y_hat = reg.predict(X_test.reshape(1,-1))\n",
    "        y_hat = X_test.T.dot(beta_hat)\n",
    "        coverage_ARW = check_coverage(y_hat, qt_khat, Y_test)\n",
    "        #cdf_dict['ARW'][trial].append(coverage_ARW[0])\n",
    "        cdf_dict['ARW'][trial].append(coverage_ARW)\n",
    "        interval_dict['ARW'][trial].append(2*qt_khat)\n",
    "\n",
    "        #baseline: take quantile of fixed k\n",
    "        for ik, k in enumerate(fixed_windows):\n",
    "            log2k = int(np.log2(k))\n",
    "            qtk = qtk_all[min(log2k, len(qtk_all)-1)]\n",
    "            coverage_k = check_coverage(y_hat, qtk, Y_test)\n",
    "            #cdf_dict[f'Val_{k}'][trial].append(coverage_k[0])\n",
    "            cdf_dict[f'Val_{k}'][trial].append(coverage_k)\n",
    "            interval_dict[f'Val_{k}'][trial].append(2*qtk)\n",
    "\n",
    "    #plot k_hat_all\n",
    "    #plt.plot(k_hat_all)"
   ]
  },
  {
   "cell_type": "code",
   "execution_count": 169,
   "metadata": {},
   "outputs": [],
   "source": [
    "def fit_LS_get_scores(X_tr, Y_tr, X_val, Y_val):\n",
    "    beta_hat = np.linalg.solve(X_tr.T.dot(X_tr), X_tr.T.dot(Y_tr))\n",
    "    S = np.abs(X_val.dot(beta_hat) - Y_val)\n",
    "    return beta_hat, S"
   ]
  },
  {
   "cell_type": "code",
   "execution_count": 170,
   "metadata": {},
   "outputs": [
    {
     "name": "stdout",
     "output_type": "stream",
     "text": [
      "(3344,)\n"
     ]
    }
   ],
   "source": [
    "arw_cov = np.array(cdf_dict['ARW'][0])\n",
    "print(arw_cov.shape)"
   ]
  },
  {
   "cell_type": "code",
   "execution_count": 171,
   "metadata": {},
   "outputs": [
    {
     "name": "stdout",
     "output_type": "stream",
     "text": [
      "ARW 0.8819358816276203\n",
      "Val_1 0.4707151664611591\n",
      "Val_4 0.7364364981504316\n",
      "Val_16 0.8193588162762022\n",
      "Val_64 0.8736128236744759\n",
      "Val_256 0.8628236744759556\n",
      "Val_1024 0.8588162762022195\n",
      "Val_4096 0.8529593094944513\n"
     ]
    },
    {
     "data": {
      "image/png": "[encoded data removed]",
      "text/plain": [
       "<Figure size 640x480 with 1 Axes>"
      ]
     },
     "metadata": {},
     "output_type": "display_data"
    }
   ],
   "source": [
    "#process results in cdf_dict\n",
    "methods = ['ARW'] + [f'Val_{k}' for k in fixed_windows]\n",
    "cov_array = np.zeros((len(methods), N-train_lag))\n",
    "interval_array = np.zeros((len(methods), N-train_lag))\n",
    "\n",
    "for i, method in enumerate(methods):\n",
    "    cov_array[i, :] = np.array(cdf_dict[method][0])\n",
    "    interval_array[i, :] = np.array(interval_dict[method][0])\n",
    "    print(method, cov_array[i][100:].mean())\n",
    "\n",
    "colors = ['r', '#FFA500', 'tab:purple', 'tab:brown', 'tab:green', '#0096FF', 'tab:gray', 'tab:olive']\n",
    "fig, ax = plt.subplots()\n",
    "plt.title('Mean Interval')\n",
    "for i in range(len(methods)):\n",
    "    ax.bar(methods[i], interval_array[i].mean(), color=colors[i])"
   ]
  }
 ],
 "metadata": {
  "kernelspec": {
   "display_name": "Python 3",
   "language": "python",
   "name": "python3"
  },
  "language_info": {
   "codemirror_mode": {
    "name": "ipython",
    "version": 3
   },
   "file_extension": ".py",
   "mimetype": "text/x-python",
   "name": "python",
   "nbconvert_exporter": "python",
   "pygments_lexer": "ipython3",
   "version": "3.9.6"
  }
 },
 "nbformat": 4,
 "nbformat_minor": 2
}
