{
 "cells": [
  {
   "cell_type": "code",
   "execution_count": null,
   "metadata": {},
   "outputs": [],
   "source": [
    "import numpy as np\n",
    "import matplotlib.pyplot as plt\n",
    "from scipy.stats import norm\n",
    "from tqdm import tqdm\n",
    "import sys\n",
    "import matplotlib as mpl\n",
    "\n",
    "#insert path\n",
    "sys.path.insert(0, '../methods/')\n",
    "\n",
    "sys.modules.pop('generate_syn_data', None)\n",
    "from generate_syn_data import *\n",
    "\n",
    "sys.modules.pop('ARWQE', None)\n",
    "from ARWQE import *\n",
    "\n",
    "sys.modules.pop('plots', None)\n",
    "from plots import *"
   ]
  }
 ],
 "metadata": {
  "language_info": {
   "name": "python"
  }
 },
 "nbformat": 4,
 "nbformat_minor": 2
}
