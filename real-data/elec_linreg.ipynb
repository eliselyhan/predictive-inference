{
 "cells": [
  {
   "cell_type": "code",
   "execution_count": 21,
   "metadata": {},
   "outputs": [],
   "source": [
    "import numpy as np\n",
    "import pandas as pd\n",
    "import matplotlib.pyplot as plt\n",
    "from scipy.stats import norm\n",
    "from tqdm import tqdm\n",
    "import sys\n",
    "import matplotlib as mpl\n",
    "\n",
    "#insert path\n",
    "sys.path.insert(0, '../methods/')\n",
    "\n",
    "sys.modules.pop('generate_syn_data', None)\n",
    "from generate_syn_data import *\n",
    "\n",
    "sys.modules.pop('ARWQE', None)\n",
    "from ARWQE import *\n",
    "\n",
    "sys.modules.pop('plots', None)\n",
    "from plots import *"
   ]
  },
  {
   "cell_type": "code",
   "execution_count": 44,
   "metadata": {},
   "outputs": [],
   "source": [
    "# ELEC2 data set\n",
    "# downloaded from https://www.kaggle.com/yashsharan/the-elec2-dataset\n",
    "data = pd.read_csv('electricity-normalized.csv')\n",
    "col_names = data.columns\n",
    "data = data.to_numpy()\n",
    "\n",
    "# remove the first stretch of time where 'transfer' does not vary\n",
    "data = data[17760:]\n",
    "\n",
    "# set up variables for the task (predicting 'transfer')\n",
    "covariate_col = ['nswprice', 'nswdemand', 'vicprice', 'vicdemand']\n",
    "response_col = 'transfer'\n",
    "# keep data points for 9:00am - 12:00pm\n",
    "keep_rows = np.where((data[:,2]>data[17,2])&(data[:,2]<data[24,2]))[0]\n",
    "\n",
    "X = data[keep_rows][:,np.where([t in covariate_col for t in col_names])[0]]\n",
    "Y = data[keep_rows][:,np.where(col_names==response_col)[0]].flatten()\n",
    "X = X.astype('float64')\n",
    "Y = Y.astype('float64')\n",
    "\n",
    "N = X.shape[0]; p = X.shape[1]; alpha = 0.1\n",
    "train_lag = 100 # start predicting after train_lag many observations\n",
    "\n",
    "# randomly permuted data \n",
    "perm = np.random.choice(N,N,replace=False)\n",
    "X_perm = X[perm]\n",
    "Y_perm = Y[perm]\n",
    "\n",
    "# weights and tags (parameters for new methods)\n",
    "rho = 0.99; rho_LS = 0.99"
   ]
  },
  {
   "cell_type": "code",
   "execution_count": 53,
   "metadata": {},
   "outputs": [
    {
     "name": "stdout",
     "output_type": "stream",
     "text": [
      "[   1    3    5 ... 3439 3441 3443]\n"
     ]
    }
   ],
   "source": [
    "alpha =0.1; delta = 0.1; gamma=1\n",
    "\n",
    "#NOTE!!: change num periods later\n",
    "num_periods = X.shape[0]\n",
    "\n",
    "np.random.seed(6)\n",
    "\n",
    "B_arr = np.ones(num_periods)\n",
    "B_arr_starts = np.arange(num_periods)\n",
    "B_arr_ends = np.cumsum(B_arr) - 1\n",
    "\n",
    "#split and use odd indices for training\n",
    "inds_odd = np.arange(1,int(np.ceil(num_periods/2)*2),2)\n",
    "inds_even = np.arange(0,int(np.floor(num_periods/2)*2),2)\n",
    "\n",
    "X_tr = X[inds_odd]; Y_tr = Y[inds_odd]\n",
    "X_val = X[inds_even]; Y_val = Y[inds_even] \n",
    "\n",
    "B_arr_tr = B_arr[inds_odd].astype(int); B_arr_val = B_arr[inds_even].astype(int)\n",
    "B_tr_starts = B_arr_starts[inds_odd].astype(int); B_val_starts = B_arr_starts[inds_even].astype(int)\n",
    "B_tr_ends = B_arr_ends[inds_odd].astype(int); B_val_ends = B_arr_ends[inds_even].astype(int)\n",
    "print(B_tr_ends)"
   ]
  },
  {
   "cell_type": "code",
   "execution_count": 54,
   "metadata": {},
   "outputs": [
    {
     "data": {
      "text/plain": [
       "((3444, 4), (3444,))"
      ]
     },
     "execution_count": 54,
     "metadata": {},
     "output_type": "execute_result"
    }
   ],
   "source": [
    "X.shape, Y.shape"
   ]
  },
  {
   "cell_type": "code",
   "execution_count": 77,
   "metadata": {},
   "outputs": [
    {
     "name": "stderr",
     "output_type": "stream",
     "text": [
      "100%|██████████| 1721/1721 [00:03<00:00, 561.52it/s]\n"
     ]
    }
   ],
   "source": [
    "num_trials = 1\n",
    "fixed_windows = [1, 16, 256, 4096]\n",
    "cdf_dict = create_empty_dict(fixed_windows, num_trials)\n",
    "interval_dict = create_empty_dict(fixed_windows, num_trials)\n",
    "\n",
    "seeds = np.arange(num_trials) + 2024\n",
    "\n",
    "for (trial, seed) in enumerate(seeds):\n",
    "    \n",
    "    np.random.seed(seed)\n",
    "\n",
    "    k_hat_all = []\n",
    "\n",
    "    for t in tqdm(range(len(B_arr_tr)-1)):\n",
    "        \n",
    "        X_tr_t = X[:B_tr_ends[t]+1]; Y_tr_t = Y[:B_tr_ends[t]+1]\n",
    "        X_val_t = X[:B_val_ends[t]+1]; Y_val_t = Y[:B_val_ends[t]+1]\n",
    "\n",
    "        reg, S_t = fit_and_get_scores(X_tr_t, Y_tr_t, X_val_t, Y_val_t)\n",
    "\n",
    "        B_val_t = B_arr_val[:t+1]\n",
    "\n",
    "        khat, qt_khat, qtk_all = ARWQE(S_t, B_val_t, alpha, delta, gamma)\n",
    "        k_hat_all.append(khat)\n",
    "\n",
    "        #compute prediction set on the next training point\n",
    "        X_test = X[B_tr_ends[t]+1]; Y_test = Y[B_tr_ends[t]+1]\n",
    "        y_hat = reg.predict(X_test.reshape(1,-1))\n",
    "        coverage_ARW = check_coverage(y_hat, qt_khat, Y_test)\n",
    "        \n",
    "        cdf_dict['ARW'][trial].append(coverage_ARW[0])\n",
    "        interval_dict['ARW'][trial].append(qt_khat)\n",
    "\n",
    "        #baseline: take quantile of fixed k\n",
    "        for ik, k in enumerate(fixed_windows):\n",
    "            log2k = int(np.log2(k))\n",
    "            qtk = qtk_all[min(log2k, len(qtk_all)-1)]\n",
    "            coverage_k = check_coverage(y_hat, qtk, Y_test)\n",
    "            cdf_dict[f'Val_{k}'][trial].append(coverage_k[0])\n",
    "            interval_dict[f'Val_{k}'][trial].append(qtk)\n",
    "\n",
    "    #plot k_hat_all\n",
    "    #plt.plot(k_hat_all)"
   ]
  },
  {
   "cell_type": "code",
   "execution_count": 78,
   "metadata": {},
   "outputs": [
    {
     "name": "stdout",
     "output_type": "stream",
     "text": [
      "0.8413712957582801\n"
     ]
    }
   ],
   "source": [
    "arw_cov = np.array(cdf_dict['ARW'][0])\n",
    "print(arw_cov.mean())"
   ]
  },
  {
   "cell_type": "code",
   "execution_count": 79,
   "metadata": {},
   "outputs": [
    {
     "name": "stdout",
     "output_type": "stream",
     "text": [
      "ARW 0.8413712957582801\n",
      "Val_1 0.8762347472399767\n",
      "Val_16 0.8773968622893666\n",
      "Val_256 0.8617083091226031\n",
      "Val_4096 0.8413712957582801\n"
     ]
    }
   ],
   "source": [
    "#process results in cdf_dict\n",
    "methods = ['ARW'] + [f'Val_{k}' for k in fixed_windows]\n",
    "for method in methods:\n",
    "    print(method, np.array(cdf_dict[method][0]).mean())"
   ]
  }
 ],
 "metadata": {
  "kernelspec": {
   "display_name": "Python 3",
   "language": "python",
   "name": "python3"
  },
  "language_info": {
   "codemirror_mode": {
    "name": "ipython",
    "version": 3
   },
   "file_extension": ".py",
   "mimetype": "text/x-python",
   "name": "python",
   "nbconvert_exporter": "python",
   "pygments_lexer": "ipython3",
   "version": "3.9.6"
  }
 },
 "nbformat": 4,
 "nbformat_minor": 2
}
