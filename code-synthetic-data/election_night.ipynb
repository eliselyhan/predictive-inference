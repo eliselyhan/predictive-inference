{
 "cells": [
  {
   "cell_type": "code",
   "execution_count": 1,
   "metadata": {},
   "outputs": [
    {
     "name": "stderr",
     "output_type": "stream",
     "text": [
      "/var/folders/kb/88rcrqqd1_l8ftjs5bctjkqh0000gn/T/ipykernel_72268/2686134704.py:39: DeprecationWarning: Conversion of an array with ndim > 0 to a scalar is deprecated, and will error in future. Ensure you extract a single element from your array before performing this operation. (Deprecated NumPy 1.25.)\n",
      "  no_adapt_err_seq[t - tinit] = float(conf_quant_naive < new_score)\n",
      "/var/folders/kb/88rcrqqd1_l8ftjs5bctjkqh0000gn/T/ipykernel_72268/2686134704.py:47: DeprecationWarning: Conversion of an array with ndim > 0 to a scalar is deprecated, and will error in future. Ensure you extract a single element from your array before performing this operation. (Deprecated NumPy 1.25.)\n",
      "  adapt_err_seq[t - tinit] = float(conf_quant_adapt < new_score)\n"
     ]
    },
    {
     "name": "stdout",
     "output_type": "stream",
     "text": [
      "Done 100 time steps\n"
     ]
    },
    {
     "name": "stderr",
     "output_type": "stream",
     "text": [
      "/Users/hanleyan/Library/Python/3.9/lib/python/site-packages/statsmodels/regression/quantile_regression.py:191: IterationLimitWarning: Maximum number of iterations (1000) reached.\n",
      "  warnings.warn(\"Maximum number of iterations (\" + str(max_iter) +\n",
      "/Users/hanleyan/Library/Python/3.9/lib/python/site-packages/statsmodels/regression/quantile_regression.py:191: IterationLimitWarning: Maximum number of iterations (1000) reached.\n",
      "  warnings.warn(\"Maximum number of iterations (\" + str(max_iter) +\n",
      "/Users/hanleyan/Library/Python/3.9/lib/python/site-packages/statsmodels/regression/quantile_regression.py:191: IterationLimitWarning: Maximum number of iterations (1000) reached.\n",
      "  warnings.warn(\"Maximum number of iterations (\" + str(max_iter) +\n"
     ]
    },
    {
     "name": "stdout",
     "output_type": "stream",
     "text": [
      "Done 200 time steps\n"
     ]
    },
    {
     "name": "stderr",
     "output_type": "stream",
     "text": [
      "/Users/hanleyan/Library/Python/3.9/lib/python/site-packages/statsmodels/regression/quantile_regression.py:191: IterationLimitWarning: Maximum number of iterations (1000) reached.\n",
      "  warnings.warn(\"Maximum number of iterations (\" + str(max_iter) +\n",
      "/Users/hanleyan/Library/Python/3.9/lib/python/site-packages/statsmodels/regression/quantile_regression.py:191: IterationLimitWarning: Maximum number of iterations (1000) reached.\n",
      "  warnings.warn(\"Maximum number of iterations (\" + str(max_iter) +\n"
     ]
    },
    {
     "name": "stdout",
     "output_type": "stream",
     "text": [
      "Done 300 time steps\n"
     ]
    },
    {
     "name": "stderr",
     "output_type": "stream",
     "text": [
      "/Users/hanleyan/Library/Python/3.9/lib/python/site-packages/statsmodels/regression/quantile_regression.py:191: IterationLimitWarning: Maximum number of iterations (1000) reached.\n",
      "  warnings.warn(\"Maximum number of iterations (\" + str(max_iter) +\n",
      "/Users/hanleyan/Library/Python/3.9/lib/python/site-packages/statsmodels/regression/quantile_regression.py:191: IterationLimitWarning: Maximum number of iterations (1000) reached.\n",
      "  warnings.warn(\"Maximum number of iterations (\" + str(max_iter) +\n"
     ]
    },
    {
     "name": "stdout",
     "output_type": "stream",
     "text": [
      "Done 400 time steps\n"
     ]
    },
    {
     "name": "stderr",
     "output_type": "stream",
     "text": [
      "/Users/hanleyan/Library/Python/3.9/lib/python/site-packages/statsmodels/regression/quantile_regression.py:191: IterationLimitWarning: Maximum number of iterations (1000) reached.\n",
      "  warnings.warn(\"Maximum number of iterations (\" + str(max_iter) +\n",
      "/Users/hanleyan/Library/Python/3.9/lib/python/site-packages/statsmodels/regression/quantile_regression.py:191: IterationLimitWarning: Maximum number of iterations (1000) reached.\n",
      "  warnings.warn(\"Maximum number of iterations (\" + str(max_iter) +\n",
      "/Users/hanleyan/Library/Python/3.9/lib/python/site-packages/statsmodels/regression/quantile_regression.py:191: IterationLimitWarning: Maximum number of iterations (1000) reached.\n",
      "  warnings.warn(\"Maximum number of iterations (\" + str(max_iter) +\n"
     ]
    }
   ],
   "source": [
    "import numpy as np\n",
    "import pandas as pd\n",
    "from statsmodels.regression.quantile_regression import QuantReg\n",
    "\n",
    "def run_election_night_pred(Y, X, alpha, gamma, tinit=100, split_size=0.75, update_method=\"Simple\", momentum_bw=0.95):\n",
    "    T = len(Y)\n",
    "    alpha_trajectory = np.empty(T - tinit)\n",
    "    adapt_err_seq = np.zeros(T - tinit)\n",
    "    no_adapt_err_seq = np.zeros(T - tinit)\n",
    "    alphat = alpha\n",
    "\n",
    "    for t in range(tinit, T):\n",
    "        # Split data into training and calibration set\n",
    "        train_points = np.random.choice(t-1, round(split_size * (t-1)), replace=False)\n",
    "        cal_points = np.setdiff1d(np.arange(t-1), train_points)\n",
    "        \n",
    "        X_train = X[train_points, :]\n",
    "        Y_train = Y[train_points]\n",
    "\n",
    "        #print(X_train.shape, Y_train.shape)\n",
    "\n",
    "        X_cal = X[cal_points, :]\n",
    "        Y_cal = Y[cal_points]\n",
    "\n",
    "        # Fit quantile regression on training data\n",
    "        model_upper = QuantReg(Y_train, X_train).fit(q=1 - alpha / 2)\n",
    "        model_lower = QuantReg(Y_train, X_train).fit(q=alpha / 2)\n",
    "\n",
    "        # Compute conformity score on calibration set and on new data example\n",
    "        pred_low_for_cal = model_lower.predict(X_cal)\n",
    "        pred_up_for_cal = model_upper.predict(X_cal)\n",
    "        scores = np.maximum(Y_cal - pred_up_for_cal, pred_low_for_cal - Y_cal)\n",
    "        q_up = model_upper.predict(X[t])\n",
    "        q_low = model_lower.predict(X[t])\n",
    "        new_score = max(Y[t] - q_up, q_low - Y[t])\n",
    "\n",
    "        # Compute errt for both methods\n",
    "        conf_quant_naive = np.quantile(scores, 1 - alpha)\n",
    "        no_adapt_err_seq[t - tinit] = float(conf_quant_naive < new_score)\n",
    "\n",
    "        if alphat >= 1:\n",
    "            adapt_err_seq[t - tinit] = 1\n",
    "        elif alphat <= 0:\n",
    "            adapt_err_seq[t - tinit] = 0\n",
    "        else:\n",
    "            conf_quant_adapt = np.quantile(scores, 1 - alphat)\n",
    "            adapt_err_seq[t - tinit] = float(conf_quant_adapt < new_score)\n",
    "\n",
    "        # Update alphat\n",
    "        alpha_trajectory[t - tinit] = alphat\n",
    "        if update_method == \"Simple\":\n",
    "            alphat += gamma * (alpha - adapt_err_seq[t - tinit])\n",
    "        elif update_method == \"Momentum\":\n",
    "            w = np.array([momentum_bw ** i for i in range(t - tinit + 1)])\n",
    "            w /= w.sum()\n",
    "            alphat += gamma * (alpha - np.dot(adapt_err_seq[:t - tinit + 1], w))\n",
    "\n",
    "        if t % 100 == 0:\n",
    "            print(f\"Done {t} time steps\")\n",
    "\n",
    "    return alpha_trajectory, adapt_err_seq, no_adapt_err_seq\n",
    "\n",
    "# Example usage\n",
    "Y = np.random.rand(500) # Simulated target values\n",
    "X = np.random.rand(500, 5) # Simulated predictor variables\n",
    "alpha = 0.05\n",
    "gamma = 0.01\n",
    "\n",
    "results = run_election_night_pred(Y, X, alpha, gamma)\n",
    "alpha_trajectory, adapt_err_seq, no_adapt_err_seq = results"
   ]
  },
  {
   "cell_type": "code",
   "execution_count": 37,
   "metadata": {},
   "outputs": [
    {
     "name": "stdout",
     "output_type": "stream",
     "text": [
      "0.055\n"
     ]
    }
   ],
   "source": [
    "print(results[1].mean())"
   ]
  }
 ],
 "metadata": {
  "kernelspec": {
   "display_name": "Python 3",
   "language": "python",
   "name": "python3"
  },
  "language_info": {
   "codemirror_mode": {
    "name": "ipython",
    "version": 3
   },
   "file_extension": ".py",
   "mimetype": "text/x-python",
   "name": "python",
   "nbconvert_exporter": "python",
   "pygments_lexer": "ipython3",
   "version": "3.9.6"
  }
 },
 "nbformat": 4,
 "nbformat_minor": 2
}
