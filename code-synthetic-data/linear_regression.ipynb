{
 "cells": [
  {
   "cell_type": "code",
   "execution_count": 1,
   "metadata": {},
   "outputs": [],
   "source": [
    "import numpy as np\n",
    "import matplotlib.pyplot as plt\n",
    "from scipy.stats import norm\n",
    "from tqdm import tqdm\n",
    "import sys\n",
    "import matplotlib as mpl\n",
    "\n",
    "sys.modules.pop('generate_syn_data', None)\n",
    "from generate_syn_data import *\n",
    "\n",
    "sys.modules.pop('ARW_pow2', None)\n",
    "from ARW_pow2 import *"
   ]
  },
  {
   "cell_type": "code",
   "execution_count": 2,
   "metadata": {},
   "outputs": [
    {
     "name": "stderr",
     "output_type": "stream",
     "text": [
      "0it [00:00, ?it/s]"
     ]
    },
    {
     "name": "stderr",
     "output_type": "stream",
     "text": [
      "10it [00:14,  1.47s/it]\n"
     ]
    }
   ],
   "source": [
    "alpha =0.1; delta = 0.1; gamma=1\n",
    "num_periods = 1000\n",
    "\n",
    "#NOTE: uncomment to change shift patterns\n",
    "#beta_1 = np.sin(np.linspace(0, 3*np.pi, num_periods)) + 5\n",
    "#beta_1 = np.ones(num_periods)\n",
    "beta_1 = generate_true_means(num_periods-1, 2)\n",
    "beta_2 = np.ones(num_periods)\n",
    "#plt.plot(beta_1)\n",
    "#plt.show()\n",
    "beta = np.column_stack((beta_1, beta_2))\n",
    "variance_y = 1; meanX = 1\n",
    "\n",
    "np.random.seed(6)\n",
    "\n",
    "#B_arr is for val set\n",
    "B_arr = np.random.randint(low=2, high=5, size=num_periods)\n",
    "B_arr_starts = np.arange(num_periods)\n",
    "B_arr_ends = np.cumsum(B_arr) - 1\n",
    "\n",
    "#for training set\n",
    "B_arr_tr = 10 * B_arr\n",
    "\n",
    "#NOTE: all the above can be tuned\n",
    "\n",
    "fixed_windows = [1, 4, 16, 64, 256, 1024]\n",
    "num_trials = 10\n",
    "\n",
    "err_dict = {}\n",
    "err_dict['ARW'] = {}\n",
    "for k in fixed_windows:\n",
    "    err_dict[f'Val_{k}'] = {}\n",
    "    for trial in range(num_trials):\n",
    "        err_dict[f'Val_{k}'][trial] = []\n",
    "        err_dict['ARW'][trial] = []\n",
    "\n",
    "seeds = np.arange(num_trials) + 2024\n",
    "\n",
    "for (trial, seed) in tqdm(enumerate(seeds)):\n",
    "    \n",
    "    np.random.seed(seed)\n",
    "\n",
    "    X_tr, y_tr = generate_linreg_data(meanX, B_arr_tr, beta, variance_y)\n",
    "    X_val, y_val = generate_linreg_data(meanX, B_arr, beta, variance_y)\n",
    "\n",
    "    k_hat_all = []\n",
    "    for t in range(num_periods):\n",
    "        \n",
    "        idx = B_arr_ends[t]+1\n",
    "\n",
    "        reg, S_t = fit_and_get_scores(X_tr[:idx], y_tr[:idx], X_val[:idx], y_val[:idx])\n",
    "\n",
    "        B_arr_t = B_arr[:t+1]\n",
    "\n",
    "        khat, qt_khat, qtk_all = ARWQE(S_t, B_arr_t, alpha, delta, gamma)\n",
    "        k_hat_all.append(khat)\n",
    "        beta_t = beta[t]\n",
    "\n",
    "        #compute coverage\n",
    "        dimX = X_tr.shape[1]\n",
    "\n",
    "        #approximate by generating ~1000 X, Y from this period \n",
    "        # and calculate coverage of prediction set\n",
    "        X_test = generate_multinomial_X(meanX, dimX, 1000)\n",
    "        y_hat = reg.predict(X_test)\n",
    "\n",
    "        mu_test = X_test @ beta[t].T\n",
    "        Y_test = mu_test + np.random.normal(0, variance_y, 1000)  \n",
    "\n",
    "        coverage_ARW = monte_carlo_coverage(y_hat, qt_khat, Y_test)\n",
    "        err_dict['ARW'][trial].append(np.abs(coverage_ARW - 1+alpha))\n",
    "\n",
    "        #baseline: take quantile of fixed k\n",
    "        #qtk_fixed = compute_qtk(S_t, np.array(fixed_windows), B_arr_t, alpha)\n",
    "        for ik, k in enumerate(fixed_windows):\n",
    "            log2k = int(np.log2(k))\n",
    "            qtk = qtk_all[min(log2k, len(qtk_all)-1)]\n",
    "            coverage_k = monte_carlo_coverage(y_hat, qtk, Y_test)\n",
    "            err_dict[f'Val_{k}'][trial].append(np.abs(coverage_k - 1+alpha))\n",
    "    \n",
    "    #plot k_hat_all\n",
    "    #plt.plot(k_hat_all)"
   ]
  },
  {
   "cell_type": "code",
   "execution_count": 4,
   "metadata": {},
   "outputs": [
    {
     "name": "stdout",
     "output_type": "stream",
     "text": [
      "['ARW', 'Val_1', 'Val_4', 'Val_16', 'Val_64', 'Val_256', 'Val_1024']\n",
      "[0.01275156 0.189285   0.08000256 0.03461678 0.019598   0.013412\n",
      " 0.01254367]\n"
     ]
    },
    {
     "data": {
      "image/png": "[encoded data removed]",
      "text/plain": [
       "<Figure size 640x480 with 1 Axes>"
      ]
     },
     "metadata": {},
     "output_type": "display_data"
    }
   ],
   "source": [
    "#process results in err_dict\n",
    "methods = ['ARW'] + [f'Val_{k}' for k in fixed_windows]\n",
    "print(methods)\n",
    "num_methods = len(methods)\n",
    "err_array = np.zeros((len(methods), num_trials, num_periods))\n",
    "for (i, key) in enumerate(err_dict.keys()):\n",
    "    for (trial, trial_coverage) in err_dict[key].items():\n",
    "        err_array[i, trial, :] = trial_coverage\n",
    "#take average of coverage over time and trials for each method\n",
    "mean_error = np.mean(np.mean(err_array[:, :, 100:], axis=2), axis=1)\n",
    "std_error = np.std(np.mean(err_array[:, :, 100:], axis=2), axis=1)\n",
    "fig, ax = plt.subplots()\n",
    "ax.bar(methods, mean_error)\n",
    "print(mean_error)"
   ]
  }
 ],
 "metadata": {
  "kernelspec": {
   "display_name": "Python 3",
   "language": "python",
   "name": "python3"
  },
  "language_info": {
   "codemirror_mode": {
    "name": "ipython",
    "version": 3
   },
   "file_extension": ".py",
   "mimetype": "text/x-python",
   "name": "python",
   "nbconvert_exporter": "python",
   "pygments_lexer": "ipython3",
   "version": "3.9.6"
  }
 },
 "nbformat": 4,
 "nbformat_minor": 2
}
