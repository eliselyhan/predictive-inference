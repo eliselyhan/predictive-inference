{
 "cells": [
  {
   "cell_type": "code",
   "execution_count": 1,
   "metadata": {},
   "outputs": [],
   "source": [
    "import numpy as np\n",
    "import matplotlib.pyplot as plt\n",
    "from scipy.stats import norm\n",
    "from tqdm import tqdm\n",
    "import sys\n",
    "import matplotlib as mpl\n",
    "\n",
    "sys.path.insert(0, '../methods/')\n",
    "\n",
    "sys.modules.pop('generate_syn_data', None)\n",
    "from generate_syn_data import *\n",
    "\n",
    "sys.modules.pop('ARWQE', None)\n",
    "from ARWQE import *\n",
    "\n",
    "sys.modules.pop('algo_syn', None)\n",
    "from algo_syn import *\n",
    "\n",
    "sys.modules.pop('plots', None)\n",
    "from plots import *\n"
   ]
  },
  {
   "cell_type": "code",
   "execution_count": 2,
   "metadata": {},
   "outputs": [],
   "source": [
    "def simulate(seed, num_periods, true_means, variance, B_arr, B_arr_tr, fixed_windows, train_windows, num_trials, alpha, delta, next_period, rho_values):\n",
    "\n",
    "    np.random.seed(seed)\n",
    "\n",
    "    #B_arr is for val set\n",
    "    B_arr_ends = np.cumsum(B_arr) - 1\n",
    "    B_arr_tr_ends = np.cumsum(B_arr_tr) - 1\n",
    "\n",
    "    cdf_array = np.empty((num_trials, len(fixed_windows)+1+len(rho_values), len(train_windows), num_periods))\n",
    "    interval_array = np.empty((num_trials, len(fixed_windows)+1+len(rho_values), len(train_windows), num_periods))\n",
    "\n",
    "    seeds = np.arange(num_trials) + 2024\n",
    "\n",
    "    for (trial, seed) in tqdm(enumerate(seeds)):\n",
    "        \n",
    "        np.random.seed(seed)\n",
    "\n",
    "        X_val = generate_gaussian_sequence(B_arr = B_arr, true_means = true_means, variance=variance)\n",
    "        X_tr = generate_gaussian_sequence(B_arr = B_arr_tr, true_means = true_means, variance=variance)\n",
    "\n",
    "        for t in range(num_periods):\n",
    "            \n",
    "            idx_tr = B_arr_tr_ends[t]+1\n",
    "            idx_val = B_arr_ends[t]+1\n",
    "\n",
    "            mu_hats = np.array(train_synthetic(X_tr[:idx_tr], B_arr_tr[:t+1], train_windows))\n",
    "\n",
    "            if next_period == True:\n",
    "                mu_t = true_means[t+1]\n",
    "            else: \n",
    "                mu_t = true_means[t]\n",
    "\n",
    "            B_arr_t = B_arr[:t+1]\n",
    "\n",
    "            for m, mu_hat in enumerate(mu_hats):\n",
    "            #calculate conformity score\n",
    "                S_t = np.abs(X_val[:idx_val] - mu_hat)\n",
    "                \n",
    "                khat, qt_khat, qtk_all = ARWQE(S_t, B_arr_t, alpha, delta)\n",
    "                coverage_ARW = calculate_coverage(mu_hat, qt_khat, mu_t, variance)\n",
    "\n",
    "                cdf_array[trial, 0, m, t] = coverage_ARW\n",
    "                interval_array[trial, 0, m, t] = 2*qt_khat\n",
    "            \n",
    "                #baseline: weighted quantile\n",
    "                for r, rho in enumerate(rho_values):\n",
    "                    qw = QE_weighted(S_t, B_arr_t, alpha, rho)\n",
    "                    coverage_w = calculate_coverage(mu_hat, qw, mu_t, variance)\n",
    "                    cdf_array[trial, 1+r, m, t] = coverage_w\n",
    "                    interval_array[trial, 1+r, m, t] = 2*qw\n",
    "\n",
    "                #baseline: take quantile of fixed k\n",
    "                for ik, k in enumerate(fixed_windows):\n",
    "                    #qtk = QE_fixed(S_t, B_arr_t, alpha, k)\n",
    "                    log2k = int(np.log2(k))\n",
    "                    qtk = qtk_all[min(log2k, len(qtk_all)-1)]\n",
    "                    coverage_k = calculate_coverage(mu_hat, qtk, mu_t, variance)\n",
    "                    cdf_array[trial, ik+1+len(rho_values), m, t] = coverage_k\n",
    "                    interval_array[trial, ik+1+len(rho_values), m, t] = 2*qtk \n",
    "                \n",
    "            \n",
    "    return cdf_array, interval_array"
   ]
  },
  {
   "cell_type": "code",
   "execution_count": 5,
   "metadata": {},
   "outputs": [
    {
     "data": {
      "image/png": "[encoded data removed]",
      "text/plain": [
       "<Figure size 400x300 with 1 Axes>"
      ]
     },
     "metadata": {},
     "output_type": "display_data"
    },
    {
     "name": "stderr",
     "output_type": "stream",
     "text": [
      "2it [00:29, 14.71s/it]\n"
     ]
    }
   ],
   "source": [
    "task = \"mean\" #mean estimation task\n",
    "\n",
    "num_trials = 1 #NOTE: change this to run multiple trials\n",
    "\n",
    "num_periods = 1000\n",
    "seed = 6\n",
    "np.random.seed(seed)\n",
    "\n",
    "B_arr = np.random.randint(low=1, high=10, size=num_periods)\n",
    "\n",
    "variance = 1\n",
    "alpha, delta, gamma = 0.1, 0.1, 1\n",
    "\n",
    "fixed_windows = [1, 4, 16, 64, 256, 1024]\n",
    "train_windows = [1, 64, 256, 1024]\n",
    "rho_values = [0.99, 0.9, 0.5, 0.25]\n",
    "\n",
    "shift = \"nonstationary\" # \"stationary\" or \"nonstationary\"\n",
    "\n",
    "if shift == \"stationary\":\n",
    "    true_means = np.ones(num_periods)\n",
    "elif shift == \"nonstationary\":\n",
    "    true_means = 5 * generate_true_means(num_periods-1, 40, 10)\n",
    "\n",
    "plt.figure(figsize=(4,3))\n",
    "plt.plot(true_means)\n",
    "plt.show()\n",
    "\n",
    "parameters = {\n",
    "    \"seed\": seed,\n",
    "    \"num_periods\": num_periods,\n",
    "    \"true_means\": true_means,\n",
    "    \"B_arr\": B_arr,\n",
    "    \"B_arr_tr\": 1 * B_arr,  # This will be calculated based on B_arr\n",
    "    \"fixed_windows\": fixed_windows,\n",
    "    \"train_windows\": train_windows,\n",
    "    \"num_trials\": num_trials,\n",
    "    \"variance\": variance, \n",
    "    \"alpha\": alpha, \"delta\": delta, \n",
    "    \"next_period\": False,\n",
    "    \"rho_values\": rho_values\n",
    "}\n",
    "\n",
    "cdf_array, interval_array = simulate(**parameters)"
   ]
  },
  {
   "cell_type": "code",
   "execution_count": 6,
   "metadata": {},
   "outputs": [],
   "source": [
    "np.save(f'./results/{task}_{shift}_cdf_array_rhos.npy', cdf_array, allow_pickle=True)"
   ]
  }
 ],
 "metadata": {
  "kernelspec": {
   "display_name": "Python 3 (ipykernel)",
   "language": "python",
   "name": "python3"
  },
  "language_info": {
   "codemirror_mode": {
    "name": "ipython",
    "version": 3
   },
   "file_extension": ".py",
   "mimetype": "text/x-python",
   "name": "python",
   "nbconvert_exporter": "python",
   "pygments_lexer": "ipython3",
   "version": "3.9.6"
  }
 },
 "nbformat": 4,
 "nbformat_minor": 2
}
