{
 "cells": [
  {
   "cell_type": "code",
   "execution_count": 48,
   "metadata": {},
   "outputs": [],
   "source": [
    "import numpy as np\n",
    "import matplotlib.pyplot as plt\n",
    "from scipy.stats import norm\n",
    "from tqdm import tqdm\n",
    "import sys\n",
    "import matplotlib as mpl\n",
    "\n",
    "sys.modules.pop('generate_syn_data', None)\n",
    "from generate_syn_data import *\n",
    "\n",
    "sys.modules.pop('ARW_pow2', None)\n",
    "from ARW_pow2 import *"
   ]
  },
  {
   "cell_type": "code",
   "execution_count": 49,
   "metadata": {},
   "outputs": [
    {
     "name": "stderr",
     "output_type": "stream",
     "text": [
      "10it [00:09,  1.06it/s]\n"
     ]
    }
   ],
   "source": [
    "#quantile estimation\n",
    "trials_per_var = 10\n",
    "num_periods = 1000\n",
    "alpha = 0.1; delta = 0.1; gamma=1\n",
    "\n",
    "fixed_windows = [1, 4, 16, 64, 256, 1024]\n",
    "\n",
    "#stationary case\n",
    "#true_means = 10 * np.ones(num_periods)\n",
    "variances = [1]\n",
    "\n",
    "#NOTE: uncomment to change cases\n",
    "\n",
    "#non-stationary case\n",
    "true_means = 5 * generate_true_means(num_periods-1, 2)\n",
    "#true_means = 2 * np.sin(np.linspace(0, 5*np.pi, num_periods)) + 5\n",
    "\n",
    "#plt.plot(true_means)\n",
    "#plt.show()\n",
    "\n",
    "B_arr = np.random.randint(low=2, high=5, size=num_periods)\n",
    "B_arr_starts = np.cumsum(B_arr) - B_arr\n",
    "B_arr_ends = np.cumsum(B_arr) - 1\n",
    "\n",
    "variances = [1]\n",
    "\n",
    "seeds = np.arange(len(variances) * trials_per_var)\n",
    "\n",
    "#initialize dictionary for storing the results\n",
    "CDF_dict = {}\n",
    "CDF_dict['ARW'] = {}\n",
    "for k in fixed_windows:\n",
    "    CDF_dict[f'Val_{k}'] = {}\n",
    "    for variance in variances:\n",
    "        CDF_dict[f'Val_{k}'][variance] = {}\n",
    "        CDF_dict['ARW'][variance] = {}\n",
    "        for trial in range(trials_per_var):\n",
    "            CDF_dict[f'Val_{k}'][variance][trial] = []\n",
    "            CDF_dict['ARW'][variance][trial] = []\n",
    "\n",
    "\n",
    "for (trial, seed) in tqdm(enumerate(seeds)):\n",
    "\n",
    "    np.random.seed(seed)\n",
    "    variance = variances[trial // trials_per_var]\n",
    "\n",
    "    U = generate_gaussian_sequence(B_arr = B_arr, true_means = true_means, variance=variance)\n",
    "\n",
    "    #k_hat_all = []\n",
    "    \n",
    "    for t in range(num_periods):\n",
    "            \n",
    "        mu_t = true_means[t]\n",
    "\n",
    "        U_t = U[:B_arr_ends[t]+1]\n",
    "        B_arr_t = B_arr[:t+1]\n",
    "\n",
    "\n",
    "        khat, qt_khat, qtk_all = ARWQE(U_t, B_arr_t, alpha, delta, gamma)\n",
    "        #k_hat_all.append(khat)\n",
    "\n",
    "        coverage = norm.cdf(qt_khat, mu_t, np.sqrt(variance))\n",
    "        CDF_dict['ARW'][variance][trial % trials_per_var].append( np.abs( coverage - (1-alpha) ))\n",
    "\n",
    "        #baseline: take quantile of fixed k \n",
    "        for ik, k in enumerate(fixed_windows):\n",
    "            log2k = int(np.log2(k))\n",
    "            qtk = qtk_all[min(log2k, len(qtk_all)-1)]\n",
    "            coverage = norm.cdf(qtk, mu_t, np.sqrt(variance))\n",
    "            CDF_dict[f'Val_{k}'][variance][trial % trials_per_var].append(np.abs(coverage - (1-alpha)))\n",
    "            \n",
    "    #k_hat_all = np.array(k_hat_all)\n",
    "    #print(k_hat_all)\n",
    "    #plt.plot(k_hat_all)\n",
    "    #plt.show()"
   ]
  },
  {
   "cell_type": "code",
   "execution_count": 50,
   "metadata": {},
   "outputs": [
    {
     "name": "stdout",
     "output_type": "stream",
     "text": [
      "[[0.06488502]\n",
      " [0.18899422]\n",
      " [0.08250157]\n",
      " [0.04769164]\n",
      " [0.06169316]\n",
      " [0.09093469]\n",
      " [0.09160805]]\n",
      "Variance: 1\n"
     ]
    },
    {
     "data": {
      "image/png": "[encoded data removed]",
      "text/plain": [
       "<Figure size 500x400 with 1 Axes>"
      ]
     },
     "metadata": {},
     "output_type": "display_data"
    }
   ],
   "source": [
    "#process results\n",
    "methods = ['ARW'] + [f'Val_{k}' for k in fixed_windows]\n",
    "num_methods = len(methods)\n",
    "\n",
    "#save result dictionary to numpy array\n",
    "CDF_array = np.zeros((len(methods), len(variances), trials_per_var, num_periods))\n",
    "rel_error = np.zeros((len(methods), len(variances), trials_per_var, num_periods))\n",
    "for (i, key) in enumerate(CDF_dict.keys()):\n",
    "    for (j, variance) in enumerate(CDF_dict[key].keys()):\n",
    "        for (trial, trial_CDF) in CDF_dict[key][variance].items():\n",
    "            #record square errors \n",
    "            CDF_array[i, j, trial, :] = trial_CDF\n",
    "\n",
    "#take average of cdf over time and trials for each variance (n_model * n_variance)\n",
    "cdf_mean_over_variances = np.mean(np.mean(CDF_array[:, :, :, 100:], axis=3), axis=2)\n",
    "print(cdf_mean_over_variances)\n",
    "#take average of cdf over for each trial (n_model * n_variance * n_periods)\n",
    "cdf_mean_over_trials = np.mean(CDF_array, axis=2)\n",
    "\n",
    "#plot results\n",
    "colors = ['r', '#FFA500', 'tab:purple', 'tab:brown', 'tab:green', '#0096FF']\n",
    "\n",
    "for (idx, variance) in enumerate(variances):\n",
    "    print(f'Variance: {variance}')\n",
    "    #for each variance, barplot mean MSE of each method\n",
    "    fig, ax = plt.subplots(1, 1, figsize = (5,4))    \n",
    "    ax.bar(range(num_methods), cdf_mean_over_variances[:, idx], color=colors, \\\n",
    "           width = 0.8)\n",
    "    #show number on yaxis\n",
    "    for i, v in enumerate(cdf_mean_over_variances[:, idx]):\n",
    "        ax.text(i - 0.1, v + 0.01, f'{v:.3f}', color='black')\n",
    "    ax.set_xlabel('Quantile Estimation Algorithms')\n",
    "    ax.set_xticks(range(num_methods))\n",
    "    #ax.set_xticklabels(['ARW', 'V1','Vfull'])\n",
    "    ax.set_ylabel(r'Mean $|F_t(\\widehat{q}_{t,\\hat{k}}) - (1-\\alpha)|$')\n",
    "    mpl.rcParams.update({'font.size': 10})\n",
    "    plt.tight_layout()\n",
    "    plt.show()\n",
    "    \n",
    "    #uncomment to save the figure\n",
    "    #plt.savefig(f'{DATAPATH}/{figname}_var{variance}.png', dpi=300, bbox_inches='tight')\n",
    "\n",
    "#TODO: discard the first ~100 periods"
   ]
  }
 ],
 "metadata": {
  "kernelspec": {
   "display_name": "Python 3",
   "language": "python",
   "name": "python3"
  },
  "language_info": {
   "codemirror_mode": {
    "name": "ipython",
    "version": 3
   },
   "file_extension": ".py",
   "mimetype": "text/x-python",
   "name": "python",
   "nbconvert_exporter": "python",
   "pygments_lexer": "ipython3",
   "version": "3.9.6"
  }
 },
 "nbformat": 4,
 "nbformat_minor": 2
}
