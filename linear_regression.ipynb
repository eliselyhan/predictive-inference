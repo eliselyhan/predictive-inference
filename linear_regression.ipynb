{
 "cells": [
  {
   "cell_type": "code",
   "execution_count": 47,
   "metadata": {},
   "outputs": [],
   "source": [
    "import numpy as np\n",
    "import matplotlib.pyplot as plt\n",
    "from scipy.stats import norm\n",
    "from tqdm import tqdm\n",
    "import sys\n",
    "import matplotlib as mpl\n",
    "\n",
    "sys.modules.pop('generate_syn_data', None)\n",
    "from generate_syn_data import *\n",
    "\n",
    "sys.modules.pop('ARW', None)\n",
    "from ARW import *"
   ]
  },
  {
   "cell_type": "code",
   "execution_count": 39,
   "metadata": {},
   "outputs": [],
   "source": [
    "def calculate_coverage(y_hat, qt_khat, mu_t, variance):\n",
    "    y_upp = y_hat + qt_khat\n",
    "    y_low = y_hat - qt_khat\n",
    "    coverage = norm.cdf(y_upp, mu_t, np.sqrt(variance)) - norm.cdf(y_low, mu_t, np.sqrt(variance))\n",
    "    return coverage"
   ]
  },
  {
   "cell_type": "code",
   "execution_count": 49,
   "metadata": {},
   "outputs": [
    {
     "name": "stderr",
     "output_type": "stream",
     "text": [
      "20it [01:02,  3.13s/it]\n"
     ]
    }
   ],
   "source": [
    "alpha =0.1; delta = 0.1; gamma=1\n",
    "num_periods = 200\n",
    "\n",
    "#NOTE: uncomment to change shift patterns\n",
    "beta_1 = 5*generate_true_means(num_periods-1, 1)\n",
    "#beta_1 = np.ones(num_periods)\n",
    "beta_2 = np.ones(num_periods)\n",
    "beta = np.column_stack((beta_1, beta_2))\n",
    "variance_y = 0.5; meanX = 1\n",
    "\n",
    "np.random.seed(6)\n",
    "\n",
    "#B_arr is for val set\n",
    "B_arr = np.random.randint(low=1, high=2, size=num_periods)\n",
    "B_arr_starts = np.cumsum(B_arr) - B_arr\n",
    "B_arr_ends = np.cumsum(B_arr) - 1\n",
    "\n",
    "#for training set\n",
    "B_arr_tr = 10 * B_arr\n",
    "\n",
    "#NOTE: all the above can be tuned\n",
    "\n",
    "fixed_windows = [1, 256]\n",
    "num_trials = 20\n",
    "\n",
    "cov_dict = {}\n",
    "cov_dict['ARW'] = {}\n",
    "for k in fixed_windows:\n",
    "    cov_dict[f'Val_{k}'] = {}\n",
    "    for trial in range(num_trials):\n",
    "        cov_dict[f'Val_{k}'][trial] = []\n",
    "        cov_dict['ARW'][trial] = []\n",
    "\n",
    "seeds = np.arange(num_trials) + 2024\n",
    "\n",
    "for (trial, seed) in tqdm(enumerate(seeds)):\n",
    "    \n",
    "    np.random.seed(seed)\n",
    "    X_tr, y_tr = generate_linreg_data(meanX, B_arr_tr, beta, variance_y)\n",
    "    X_val, y_val = generate_linreg_data(meanX, B_arr, beta, variance_y)\n",
    "    reg, S = fit_and_get_scores(X_tr, y_tr, X_val, y_val)\n",
    "\n",
    "    for t in range(num_periods):\n",
    "                \n",
    "        S_t = S[:B_arr_ends[t]+1]\n",
    "        B_arr_t = B_arr[:t+1]\n",
    "\n",
    "        khat, qt_khat, qtk_all = ARWQE(S_t, B_arr_t, alpha, delta, gamma)\n",
    "        beta_t = beta[t]\n",
    "\n",
    "        #compute coverage\n",
    "        dimX = X_tr.shape[1]\n",
    "        X_test = generate_multinomial_X(meanX, dimX, 100)\n",
    "        mu_test = X_test @ beta[t].T\n",
    "        y_hat = reg.predict(X_test)\n",
    "        coverage_ARW = calculate_coverage(y_hat, qt_khat, mu_test, variance_y)\n",
    "        cov_dict['ARW'][trial].append(coverage_ARW.mean())\n",
    "\n",
    "        #baseline: take quantile of fixed k\n",
    "        for ik, k in enumerate(fixed_windows):\n",
    "            qtk = qtk_all[min(k,t)]\n",
    "            coverage_k = calculate_coverage(y_hat, qtk, mu_test, variance_y)\n",
    "            cov_dict[f'Val_{k}'][trial].append(coverage_k.mean())"
   ]
  },
  {
   "cell_type": "code",
   "execution_count": 42,
   "metadata": {},
   "outputs": [
    {
     "name": "stdout",
     "output_type": "stream",
     "text": [
      "['ARW', 'Val_1', 'Val_64']\n",
      "[0.78430963 0.65561305 0.92530462]\n"
     ]
    }
   ],
   "source": [
    "#process results in cov_dict\n",
    "methods = ['ARW'] + [f'Val_{k}' for k in fixed_windows]\n",
    "print(methods)\n",
    "num_methods = len(methods)\n",
    "cov_array = np.zeros((len(methods), num_trials, num_periods))\n",
    "for (i, key) in enumerate(cov_dict.keys()):\n",
    "    for (trial, trial_coverage) in cov_dict[key].items():\n",
    "        cov_array[i, trial, :] = trial_coverage\n",
    "\n",
    "#take average of coverage over time and trials for each method\n",
    "mean_coverage = np.mean(np.mean(cov_array, axis=2), axis=1)\n",
    "std_coverage = np.std(np.mean(cov_array, axis=2), axis=1)\n",
    "print(mean_coverage)"
   ]
  }
 ],
 "metadata": {
  "kernelspec": {
   "display_name": "Python 3",
   "language": "python",
   "name": "python3"
  },
  "language_info": {
   "codemirror_mode": {
    "name": "ipython",
    "version": 3
   },
   "file_extension": ".py",
   "mimetype": "text/x-python",
   "name": "python",
   "nbconvert_exporter": "python",
   "pygments_lexer": "ipython3",
   "version": "3.9.6"
  }
 },
 "nbformat": 4,
 "nbformat_minor": 2
}
